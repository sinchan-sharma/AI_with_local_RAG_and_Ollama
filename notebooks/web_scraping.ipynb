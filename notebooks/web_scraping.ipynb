{
 "cells": [
  {
   "cell_type": "markdown",
   "id": "e74f017f",
   "metadata": {},
   "source": [
    "# Extracting Documents from Wikipedia and HTML Files"
   ]
  },
  {
   "cell_type": "code",
   "execution_count": 1,
   "id": "336f5cb3",
   "metadata": {},
   "outputs": [],
   "source": [
    "import requests\n",
    "import wikipedia\n",
    "from bs4 import BeautifulSoup"
   ]
  },
  {
   "cell_type": "code",
   "execution_count": null,
   "id": "ee45b3af",
   "metadata": {},
   "outputs": [
    {
     "name": "stdout",
     "output_type": "stream",
     "text": [
      "Fetching topic: Alan Turing\n",
      "Fetched summary length: 52740\n"
     ]
    }
   ],
   "source": [
    "topic = \"Alan Turing\"\n",
    "print(f\"Fetching topic: {topic}\")\n",
    "\n",
    "## Note: auto_suggest MUST be set to False, otherwise it will priotize\n",
    "## suggesstions over actual results, resulting in PageError: Page id <topic>\n",
    "## does not match any pages. Try another id! (no matter which topic you select)\n",
    "summary = wikipedia.page(topic, auto_suggest = False).content\n",
    "print(\"Fetched summary length:\", len(summary))\n",
    "\n",
    "## Save the wikipedia article to a .txt file\n",
    "with open(\"./documents/alan_turing.txt\", \"w\", encoding = \"utf-8\") as f:\n",
    "    f.write(summary)"
   ]
  },
  {
   "cell_type": "code",
   "execution_count": null,
   "id": "f9d3ec3a",
   "metadata": {},
   "outputs": [
    {
     "name": "stdout",
     "output_type": "stream",
     "text": [
      "Fetching topic: Nikola Tesla\n",
      "Fetched summary length: 53700\n"
     ]
    }
   ],
   "source": [
    "topic = \"Nikola Tesla\"\n",
    "print(f\"Fetching topic: {topic}\")\n",
    "\n",
    "## Note: auto_suggest MUST be set to False, otherwise it will priotize\n",
    "## suggesstions over actual results, resulting in PageError: Page id <topic>\n",
    "## does not match any pages. Try another id! (no matter which topic you select)\n",
    "summary = wikipedia.page(topic, auto_suggest = False).content\n",
    "print(\"Fetched summary length:\", len(summary))\n",
    "\n",
    "## Save the wikipedia article to a .txt file\n",
    "with open(\"./documents/nikola_tesla.txt\", \"w\", encoding = \"utf-8\") as f:\n",
    "    f.write(summary)"
   ]
  },
  {
   "cell_type": "code",
   "execution_count": null,
   "id": "851cad08",
   "metadata": {},
   "outputs": [
    {
     "name": "stdout",
     "output_type": "stream",
     "text": [
      "Article HTML saved as 'climate_change.html'\n"
     ]
    }
   ],
   "source": [
    "url = \"https://www.climaterealityproject.org/blog/congress-living-fantasy-world-budget-bill\"\n",
    "headers = {\"User-Agent\": \"Mozilla/5.0\"}\n",
    "response = requests.get(url, headers=headers)\n",
    "\n",
    "if response.status_code == 200:\n",
    "    html_content = response.text\n",
    "\n",
    "    soup = BeautifulSoup(html_content, \"html.parser\")\n",
    "\n",
    "    # Find the main article container\n",
    "    article = soup.find(\"article\")\n",
    "    if not article:\n",
    "        article = soup.find(\"div\", class_=\"node__content\")\n",
    "\n",
    "    if article:\n",
    "        # Save just the article HTML (with tags) to a file\n",
    "        with open(\"./documents/climate_change.html\", \"w\", encoding=\"utf-8\") as f:\n",
    "            f.write(str(article))\n",
    "        print(\"Article HTML saved as 'climate_change.html'\")\n",
    "    else:\n",
    "        print(\"Could not find the main article content.\")\n",
    "else:\n",
    "    print('Failed to retrieve the document')\n",
    "\n"
   ]
  }
 ],
 "metadata": {
  "kernelspec": {
   "display_name": "venv (3.11.5)",
   "language": "python",
   "name": "python3"
  },
  "language_info": {
   "codemirror_mode": {
    "name": "ipython",
    "version": 3
   },
   "file_extension": ".py",
   "mimetype": "text/x-python",
   "name": "python",
   "nbconvert_exporter": "python",
   "pygments_lexer": "ipython3",
   "version": "3.11.5"
  }
 },
 "nbformat": 4,
 "nbformat_minor": 5
}
